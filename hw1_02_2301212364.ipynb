{
 "cells": [
  {
   "cell_type": "markdown",
   "metadata": {},
   "source": [
    "# First Python Program"
   ]
  },
  {
   "cell_type": "code",
   "execution_count": 1,
   "metadata": {},
   "outputs": [
    {
     "name": "stdout",
     "output_type": "stream",
     "text": [
      "Hello World!\n"
     ]
    }
   ],
   "source": [
    "print(\"Hello World!\")"
   ]
  },
  {
   "cell_type": "code",
   "execution_count": 2,
   "metadata": {},
   "outputs": [
    {
     "name": "stdout",
     "output_type": "stream",
     "text": [
      "Hello World!\n",
      "**********\n",
      "o----\n",
      " ||||\n",
      "50\n",
      "I'm Jian Zhang\n"
     ]
    }
   ],
   "source": [
    "print(\"Hello World!\")\n",
    "print(\"*\" * 10)\n",
    "print('o----')\n",
    "print(' ||||')\n",
    "print(5 * 10)\n",
    "# print('I'm Jian Zhang')\n",
    "print(\"I'm Jian Zhang\")"
   ]
  },
  {
   "cell_type": "markdown",
   "metadata": {},
   "source": [
    "# Input()"
   ]
  },
  {
   "cell_type": "code",
   "execution_count": 4,
   "metadata": {},
   "outputs": [
    {
     "name": "stdout",
     "output_type": "stream",
     "text": [
      "Hi Fanyuan Ma\n",
      "Fanyuan Ma is 21 years old.\n"
     ]
    }
   ],
   "source": [
    "# input()默认返回str类型的值，但是可以在外层嵌套int() float()等来调整\n",
    "name = input('What is your name? ')\n",
    "print('Hi ' + name)\n",
    "name = input('What is your name? ')\n",
    "age = input('What is your age? ')\n",
    "print(name + ' is ' + age + ' years old.')"
   ]
  },
  {
   "cell_type": "markdown",
   "metadata": {},
   "source": [
    "# Primitive Types"
   ]
  },
  {
   "cell_type": "code",
   "execution_count": 5,
   "metadata": {},
   "outputs": [
    {
     "name": "stdout",
     "output_type": "stream",
     "text": [
      "1000\n",
      "4.99\n",
      "Python Programming\n",
      "18\n",
      "P\n",
      "n\n",
      "Pytho\n"
     ]
    }
   ],
   "source": [
    "students_count = 1000\n",
    "rating = 4.99\n",
    "is_published = False\n",
    "course_name = \"Python Programming\"\n",
    "print(students_count)\n",
    "print(rating)\n",
    "print(course_name)\n",
    "print(len(course_name))\n",
    "print(course_name[0])\n",
    "print(course_name[-2])\n",
    "print(course_name[0:5])"
   ]
  },
  {
   "cell_type": "code",
   "execution_count": 6,
   "metadata": {},
   "outputs": [
    {
     "name": "stdout",
     "output_type": "stream",
     "text": [
      "<class 'int'>\n",
      "<class 'float'>\n",
      "<class 'bool'>\n",
      "<class 'str'>\n",
      "4552511120\n",
      "4550932912\n"
     ]
    }
   ],
   "source": [
    "students_count = 1000\n",
    "rating = 4.99\n",
    "is_published = False\n",
    "course_name = \"Python Programming\"\n",
    "print(type(students_count))\n",
    "print(type(rating))\n",
    "print(type(is_published))\n",
    "print(type(course_name))\n",
    "# id()用来返回对象的内存地址\n",
    "print(id(rating))\n",
    "print(id(students_count ))"
   ]
  },
  {
   "cell_type": "markdown",
   "metadata": {},
   "source": [
    "# Formatted String"
   ]
  },
  {
   "cell_type": "code",
   "execution_count": 7,
   "metadata": {},
   "outputs": [
    {
     "name": "stdout",
     "output_type": "stream",
     "text": [
      "Jian Zhang\n",
      "Jian Zhang\n"
     ]
    }
   ],
   "source": [
    "first_name = \"Jian\"\n",
    "last_name = \"Zhang\"\n",
    "full_name = first_name + \" \" + last_name\n",
    "print(full_name)\n",
    "\n",
    "# f-string：格式化字符串，包含可替换字段，即以{}标注的表达式，可以在运行时进行求值\n",
    "full_name_formated = f\"{first_name} {last_name}\"\n",
    "print(full_name_formated)"
   ]
  },
  {
   "cell_type": "markdown",
   "metadata": {},
   "source": [
    "# Escape Character"
   ]
  },
  {
   "cell_type": "code",
   "execution_count": 8,
   "metadata": {},
   "outputs": [
    {
     "name": "stdout",
     "output_type": "stream",
     "text": [
      "Python Programing with \"Mosh\"\n",
      "Python Programing with 'Mosh'\n",
      "Python Programing with \\Mosh\\\n",
      "Python Programing with \n",
      "Mosh\n"
     ]
    }
   ],
   "source": [
    "course_full_name = \"Python Programing with \\\"Mosh\\\"\"\n",
    "print(course_full_name)\n",
    "course_full_name = \"Python Programing with \\'Mosh\\'\"\n",
    "print(course_full_name)\n",
    "course_full_name = \"Python Programing with \\\\Mosh\\\\\"\n",
    "print(course_full_name)\n",
    "course_full_name = \"Python Programing with \\nMosh\"\n",
    "print(course_full_name)"
   ]
  },
  {
   "cell_type": "markdown",
   "metadata": {},
   "source": [
    "# String Methods"
   ]
  },
  {
   "cell_type": "code",
   "execution_count": 9,
   "metadata": {},
   "outputs": [
    {
     "name": "stdout",
     "output_type": "stream",
     "text": [
      " PYTHON PROGRAMMING FOR BEGINNERS \n",
      " python programming for beginners \n",
      " Python Programming For Beginners \n",
      "11\n",
      " Python Programming for beginners \n",
      "True\n",
      "False\n"
     ]
    }
   ],
   "source": [
    "course_name_python = \" python programming for beginners \"\n",
    "print(course_name_python.upper())\n",
    "print(course_name_python.lower())\n",
    "print(course_name_python.title()) #首字母大写，其余小写\n",
    "print(course_name_python.find(\"gram\")) #输出位置，从0开始\n",
    "print(course_name_python.replace(\"p\", \"P\"))\n",
    "print(\"pro\" in course_name_python)\n",
    "print(\"abc\" in course_name_python)"
   ]
  },
  {
   "cell_type": "markdown",
   "metadata": {},
   "source": [
    "# Numbers"
   ]
  },
  {
   "cell_type": "code",
   "execution_count": 13,
   "metadata": {},
   "outputs": [
    {
     "name": "stdout",
     "output_type": "stream",
     "text": [
      "13\n",
      "7\n",
      "30\n",
      "3.3333333333333335\n",
      "3\n",
      "1\n",
      "1000\n",
      "6\n",
      "6.1\n",
      "(3+2j)\n"
     ]
    }
   ],
   "source": [
    "x = 3\n",
    "y = 3.1\n",
    "z = 3 + 2j \n",
    "print(10 + 3)\n",
    "print(10 - 3)\n",
    "print(10 * 3)\n",
    "print(10 / 3)\n",
    "print(10 // 3) #整除\n",
    "print(10 % 3) #取余\n",
    "print(10 ** 3) #求幂\n",
    "x = x + 3\n",
    "print(x)\n",
    "y += 3\n",
    "print(y)\n",
    "print(z)"
   ]
  },
  {
   "cell_type": "code",
   "execution_count": 14,
   "metadata": {},
   "outputs": [
    {
     "name": "stdout",
     "output_type": "stream",
     "text": [
      "2.96\n",
      "5.4\n",
      "9\n",
      "4\n",
      "2.90\n"
     ]
    }
   ],
   "source": [
    "import math\n",
    "print(round(2.9595, 2)) #四舍五入\n",
    "print(abs(-5.4))\n",
    "print(math.ceil(8.2)) #上入整数\n",
    "print(math.floor(4.9)) #下入整数\n",
    "average = 2.9\n",
    "print(f\"{average:.2f}\")"
   ]
  },
  {
   "cell_type": "markdown",
   "metadata": {},
   "source": [
    "# Type Conversion"
   ]
  },
  {
   "cell_type": "code",
   "execution_count": 19,
   "metadata": {},
   "outputs": [
    {
     "name": "stdout",
     "output_type": "stream",
     "text": [
      "<class 'str'>\n",
      "x: 3 ; y: 8\n",
      "False\n",
      "False\n",
      "False\n",
      "True\n",
      "True\n"
     ]
    }
   ],
   "source": [
    "x = input(\"x: \")\n",
    "print(type(x))\n",
    "y = int(x) + 5\n",
    "print(f\"x: {x} ; y: {y}\")\n",
    "print(bool(\"\"))\n",
    "print(bool(0))\n",
    "print(bool(None))\n",
    "print(bool(2))\n",
    "print(bool(1))"
   ]
  }
 ],
 "metadata": {
  "kernelspec": {
   "display_name": "VirtualEnv",
   "language": "python",
   "name": "python3"
  },
  "language_info": {
   "codemirror_mode": {
    "name": "ipython",
    "version": 3
   },
   "file_extension": ".py",
   "mimetype": "text/x-python",
   "name": "python",
   "nbconvert_exporter": "python",
   "pygments_lexer": "ipython3",
   "version": "3.11.5"
  }
 },
 "nbformat": 4,
 "nbformat_minor": 2
}
