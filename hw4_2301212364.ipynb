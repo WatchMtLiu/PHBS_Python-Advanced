{
 "cells": [
  {
   "cell_type": "code",
   "execution_count": 10,
   "metadata": {},
   "outputs": [],
   "source": [
    "##### 提取第一页\n",
    "import os\n",
    "import re\n",
    "from PyPDF4 import PdfFileReader, PdfFileWriter, PdfFileMerger\n",
    "pdf_writer = PdfFileWriter()\n",
    "i = 1\n",
    "for filename in os.listdir(\"mypdfs\"):\n",
    "    filepath = os.path.join('mypdfs', filename)\n",
    "    pdf = PdfFileReader(filepath)\n",
    "    page = pdf.getPage(0)\n",
    "    writer = PdfFileWriter()\n",
    "    writer.addPage(page)\n",
    "    new_pdf_name = \"new\"+ str(i)+\".pdf\"\n",
    "    i = i + 1\n",
    "    outputpath = os.path.join('mypdfs', new_pdf_name)\n",
    "    with open(outputpath, \"wb\") as output:\n",
    "        writer.write(output)"
   ]
  },
  {
   "cell_type": "code",
   "execution_count": 14,
   "metadata": {},
   "outputs": [],
   "source": [
    "##### 提取第二页\n",
    "merger = PdfFileMerger()\n",
    "for file_name in os.listdir(\"mypdfs\"):\n",
    "    if re.match(\"new\",file_name):\n",
    "        full_path = os.path.join(\"mypdfs\", file_name)\n",
    "        merger.append(full_path)\n",
    "finaloutputpath = os.path.join('mypdfs', \"new.pdf\")\n",
    "with open(finaloutputpath, \"wb\") as output:\n",
    "    merger.write(output)"
   ]
  }
 ],
 "metadata": {
  "kernelspec": {
   "display_name": "VirtualEnv",
   "language": "python",
   "name": "python3"
  },
  "language_info": {
   "codemirror_mode": {
    "name": "ipython",
    "version": 3
   },
   "file_extension": ".py",
   "mimetype": "text/x-python",
   "name": "python",
   "nbconvert_exporter": "python",
   "pygments_lexer": "ipython3",
   "version": "3.11.5"
  }
 },
 "nbformat": 4,
 "nbformat_minor": 2
}
