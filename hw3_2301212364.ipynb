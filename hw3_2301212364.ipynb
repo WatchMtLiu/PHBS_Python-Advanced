{
 "cells": [
  {
   "cell_type": "code",
   "execution_count": 1,
   "metadata": {},
   "outputs": [
    {
     "data": {
      "text/plain": [
       "'/Users/jellyma/Documents/master/[2]Python.Jian Zhang.M2/hw/New_H1.xlsx'"
      ]
     },
     "execution_count": 1,
     "metadata": {},
     "output_type": "execute_result"
    }
   ],
   "source": [
    "import pandas as pd\n",
    "import re\n",
    "\n",
    "# Assuming the file 'H1.xls' is located at '/mnt/data/H1.xls'\n",
    "file_path = '/Users/jellyma/Documents/master/[2]Python.Jian Zhang.M2/2023-Python-Advanced/Week 4/H1.xlsx'\n",
    "output_file_path = '/Users/jellyma/Documents/master/[2]Python.Jian Zhang.M2/hw/New_H1.xlsx'\n",
    "\n",
    "# Read the excel file\n",
    "df = pd.read_excel(file_path)\n",
    "\n",
    "# Define a function to extract URLs from the text\n",
    "def extract_url(text):\n",
    "    # Find all URLs in the text\n",
    "    urls = re.findall(r'https?://\\S+', text)\n",
    "    return urls[0] if urls else ''\n",
    "\n",
    "# Apply the function to the column containing the links\n",
    "# Assuming the column name is 'Links' or similar\n",
    "df['Pure Links'] = df['Online Document Address （必填）'].apply(extract_url)\n",
    "\n",
    "# Save the updated DataFrame to a new Excel file\n",
    "df.to_excel(output_file_path, index=False)\n",
    "\n",
    "output_file_path\n"
   ]
  }
 ],
 "metadata": {
  "kernelspec": {
   "display_name": "VirtualEnv",
   "language": "python",
   "name": "python3"
  },
  "language_info": {
   "codemirror_mode": {
    "name": "ipython",
    "version": 3
   },
   "file_extension": ".py",
   "mimetype": "text/x-python",
   "name": "python",
   "nbconvert_exporter": "python",
   "pygments_lexer": "ipython3",
   "version": "3.11.5"
  }
 },
 "nbformat": 4,
 "nbformat_minor": 2
}
