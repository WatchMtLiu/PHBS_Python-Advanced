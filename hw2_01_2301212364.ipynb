{
 "cells": [
  {
   "cell_type": "markdown",
   "metadata": {},
   "source": [
    "# hw1"
   ]
  },
  {
   "cell_type": "code",
   "execution_count": 1,
   "metadata": {},
   "outputs": [],
   "source": [
    "def IsAnagram(s,t):\n",
    "    dict1 = {}\n",
    "    dict2 = {}\n",
    "    for e in s:\n",
    "        if e in dict1:\n",
    "            dict1[e] += 1\n",
    "        else:\n",
    "            dict1[e] = 1\n",
    "    for e in t:\n",
    "        if e in dict2:\n",
    "            dict2[e] += 1\n",
    "        else:\n",
    "            dict2[e] = 1\n",
    "    return dict1==dict2"
   ]
  },
  {
   "cell_type": "code",
   "execution_count": 2,
   "metadata": {},
   "outputs": [
    {
     "name": "stdout",
     "output_type": "stream",
     "text": [
      "True\n"
     ]
    }
   ],
   "source": [
    "s = \"anagram\"\n",
    "t = \"nagaram\"\n",
    "print(IsAnagram(s,t))"
   ]
  },
  {
   "cell_type": "markdown",
   "metadata": {},
   "source": [
    "# hw2"
   ]
  },
  {
   "cell_type": "code",
   "execution_count": 3,
   "metadata": {},
   "outputs": [],
   "source": [
    "# find sqrt of a number\n",
    "def MySqrt(x):\n",
    "    if x < 0:\n",
    "        raise ValueError(\"Cannot find sqrt of negative number\")\n",
    "    if x == 0 or x == 1:\n",
    "        return x\n",
    "    left = 0\n",
    "    right = x\n",
    "    while left <= right:\n",
    "        mid = (left + right) // 2\n",
    "        if mid * mid == x:\n",
    "            return mid\n",
    "        elif mid * mid > x:\n",
    "            right = mid - 1\n",
    "        else:\n",
    "            left = mid + 1\n",
    "    return right"
   ]
  },
  {
   "cell_type": "code",
   "execution_count": 4,
   "metadata": {},
   "outputs": [
    {
     "data": {
      "text/plain": [
       "2"
      ]
     },
     "execution_count": 4,
     "metadata": {},
     "output_type": "execute_result"
    }
   ],
   "source": [
    "x = 8\n",
    "MySqrt(x)"
   ]
  },
  {
   "cell_type": "markdown",
   "metadata": {},
   "source": [
    "# hw3"
   ]
  },
  {
   "cell_type": "code",
   "execution_count": 5,
   "metadata": {},
   "outputs": [],
   "source": [
    "def path(m, n):\n",
    "    path_dp = [[0 for i in range(n)] for j in range(m)]\n",
    "    # first col\n",
    "    for i in range(m):\n",
    "        path_dp[i][0] = 1\n",
    "    # first row\n",
    "    for j in range(n):\n",
    "        path_dp[0][j] = 1\n",
    "    # dp\n",
    "    for i in range(1, m):\n",
    "        for j in range(1, n):\n",
    "            path_dp[i][j] = path_dp[i-1][j] + path_dp[i][j-1]\n",
    "    return path_dp[m-1][n-1]"
   ]
  },
  {
   "cell_type": "code",
   "execution_count": 6,
   "metadata": {},
   "outputs": [
    {
     "data": {
      "text/plain": [
       "3"
      ]
     },
     "execution_count": 6,
     "metadata": {},
     "output_type": "execute_result"
    }
   ],
   "source": [
    "m = 3\n",
    "n = 2\n",
    "path(m, n)"
   ]
  },
  {
   "cell_type": "markdown",
   "metadata": {},
   "source": [
    "# hw4"
   ]
  },
  {
   "cell_type": "code",
   "execution_count": 7,
   "metadata": {},
   "outputs": [],
   "source": [
    "def longestSubsequence(nums):\n",
    "    # use dp\n",
    "    ans = 1\n",
    "    dp = [1]*len(nums)\n",
    "\n",
    "    # dp[0] = 1\n",
    "    # dp[i] = max(dp[i], dp[j]+1) for j in range(i)\n",
    "    for i in range(1, len(nums)):\n",
    "        for j in range(i):\n",
    "            if nums[i] > nums[j]:\n",
    "                dp[i] = max(dp[i], dp[j]+1)\n",
    "        ans = max(ans, dp[i])\n",
    "    return ans"
   ]
  },
  {
   "cell_type": "code",
   "execution_count": 8,
   "metadata": {},
   "outputs": [
    {
     "data": {
      "text/plain": [
       "4"
      ]
     },
     "execution_count": 8,
     "metadata": {},
     "output_type": "execute_result"
    }
   ],
   "source": [
    "nums = [10,9,2,5,3,7,101,18]\n",
    "longestSubsequence(nums)"
   ]
  }
 ],
 "metadata": {
  "kernelspec": {
   "display_name": "VirtualEnv",
   "language": "python",
   "name": "python3"
  },
  "language_info": {
   "codemirror_mode": {
    "name": "ipython",
    "version": 3
   },
   "file_extension": ".py",
   "mimetype": "text/x-python",
   "name": "python",
   "nbconvert_exporter": "python",
   "pygments_lexer": "ipython3",
   "version": "3.11.5"
  }
 },
 "nbformat": 4,
 "nbformat_minor": 2
}
